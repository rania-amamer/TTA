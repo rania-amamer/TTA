{
 "metadata": {
  "language_info": {
   "codemirror_mode": {
    "name": "ipython",
    "version": 3
   },
   "file_extension": ".py",
   "mimetype": "text/x-python",
   "name": "python",
   "nbconvert_exporter": "python",
   "pygments_lexer": "ipython3",
   "version": "3.8.5"
  },
  "orig_nbformat": 2,
  "kernelspec": {
   "name": "python385jvsc74a57bd0dca0ade3e726a953b501b15e8e990130d2b7799f14cfd9f4271676035ebe5511",
   "display_name": "Python 3.8.5 64-bit ('base': conda)"
  }
 },
 "nbformat": 4,
 "nbformat_minor": 2,
 "cells": [
  {
   "cell_type": "code",
   "execution_count": 1,
   "metadata": {},
   "outputs": [
    {
     "output_type": "stream",
     "name": "stdout",
     "text": [
      "Requirement already satisfied: numpy in /opt/anaconda3/lib/python3.8/site-packages (1.19.2)\n",
      "Note: you may need to restart the kernel to use updated packages.\n"
     ]
    }
   ],
   "source": [
    "pip install numpy"
   ]
  },
  {
   "cell_type": "code",
   "execution_count": 4,
   "metadata": {},
   "outputs": [],
   "source": [
    "# Write a program that allows you to enter 4 numbers and stores them in a file called “Numbers”\n",
    "\n",
    "fh = open(\"numbers.txt\",\"w\")\n",
    "\n",
    "fh.write(\"Write a program that allows you to enter 4 numbers and stores them in a file called “Numbers”\")\n",
    "\n",
    "num1 = int(input(\"Enter your first number\")) \n",
    "num2 = int(input(\"Enter your second number\"))\n",
    "num3 = int(input(\"Enter your third number\"))\n",
    "num4 = int(input(\"Enter your fourth number\"))\n",
    "\n",
    "fh.write(f\"{num1} {num2} {num3} {num4}\")\n",
    "fh.close()"
   ]
  },
  {
   "cell_type": "code",
   "execution_count": null,
   "metadata": {},
   "outputs": [],
   "source": []
  }
 ]
}