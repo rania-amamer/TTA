{
 "metadata": {
  "language_info": {
   "codemirror_mode": {
    "name": "ipython",
    "version": 3
   },
   "file_extension": ".py",
   "mimetype": "text/x-python",
   "name": "python",
   "nbconvert_exporter": "python",
   "pygments_lexer": "ipython3",
   "version": "3.8.7"
  },
  "orig_nbformat": 2,
  "kernelspec": {
   "name": "python387jvsc74a57bd0aee8b7b246df8f9039afb4144a1f6fd8d2ca17a180786b69acc140d282b71a49",
   "display_name": "Python 3.8.7 64-bit"
  },
  "metadata": {
   "interpreter": {
    "hash": "aee8b7b246df8f9039afb4144a1f6fd8d2ca17a180786b69acc140d282b71a49"
   }
  }
 },
 "nbformat": 4,
 "nbformat_minor": 2,
 "cells": [
  {
   "cell_type": "code",
   "execution_count": 4,
   "metadata": {},
   "outputs": [],
   "source": [
    "## 2 // As an extension to the motorbike task that costs £2000 and loses 10% of its value every year. Set up a function that performs the calculation by passing in parameters. Then using a loop, print the value of the bike every following year until it falls below £1000\n",
    "\n",
    "def name_funct(inp_MB,inp_Dep,inp_year):\n",
    "  Motor_bike = inp_MB \n",
    "  Depreciation = inp_Dep\n",
    "  year = inp_year\n",
    "  while Motor_bike>1000:\n",
    "   Dep_Cal = Motor_bike - (Motor_bike*(Depreciation))\n",
    "   Monthly_Dep = Motor_bike - Dep_Cal\n",
    "   Motor_bike = Dep_Cal\n",
    "   year=year+1 \n",
    "   if(Motor_bike>1000):\n",
    "    \n",
    "    print(\"Yearly Depreciation value : \", round(Dep_Cal),\"Monthly depreciated Value : \", round(Monthly_Dep), \"Depreciated year : \", year)\n",
    "  user_choice()"
   ]
  },
  {
   "cell_type": "code",
   "execution_count": 5,
   "metadata": {},
   "outputs": [],
   "source": [
    "def motor():\n",
    " MB1 = int(input(\"Enter the cost of the vehicle : \"))\n",
    " Dep1 = float(input(\"Enter the interest : \"))\n",
    " year2 = int(input(\"Enter the year of purchase : \"))\n",
    " print(\"Original Value : \", MB1, \"Depreciation % : \", Dep1, \"Purchased year : \", year2)\n",
    " name_funct(MB1, Dep1, year2)"
   ]
  },
  {
   "cell_type": "code",
   "execution_count": 6,
   "metadata": {},
   "outputs": [],
   "source": [
    "def user_choice():\n",
    "    choice = int(input(\"Press 1 if u want to continue, else press 2\"))\n",
    "    if choice == 1:\n",
    "      motor()\n",
    "    else:\n",
    "        print(\"Thank you\")"
   ]
  },
  {
   "cell_type": "code",
   "execution_count": 11,
   "metadata": {},
   "outputs": [
    {
     "output_type": "stream",
     "name": "stdout",
     "text": [
      " 1--> Addition\n",
      " 2--> Subtraction \n",
      " 3--> Multiplication\n",
      " 4--> Division\n",
      "Subration of  1 and 1 is 0\n"
     ]
    },
    {
     "output_type": "error",
     "ename": "NameError",
     "evalue": "name 'us_er_choice' is not defined",
     "traceback": [
      "\u001b[0;31m---------------------------------------------------------------------------\u001b[0m",
      "\u001b[0;31mNameError\u001b[0m                                 Traceback (most recent call last)",
      "\u001b[0;32m<ipython-input-11-d1d6dadbe82d>\u001b[0m in \u001b[0;36m<module>\u001b[0;34m\u001b[0m\n\u001b[1;32m      5\u001b[0m \u001b[0mprint\u001b[0m\u001b[0;34m(\u001b[0m\u001b[0;34m\" 1--> Addition\\n 2--> Subtraction \\n 3--> Multiplication\\n 4--> Division\"\u001b[0m\u001b[0;34m)\u001b[0m\u001b[0;34m\u001b[0m\u001b[0;34m\u001b[0m\u001b[0m\n\u001b[1;32m      6\u001b[0m \u001b[0mz\u001b[0m \u001b[0;34m=\u001b[0m \u001b[0mint\u001b[0m\u001b[0;34m(\u001b[0m\u001b[0minput\u001b[0m\u001b[0;34m(\u001b[0m\u001b[0;34m\"Enter your choice of operation : \"\u001b[0m\u001b[0;34m)\u001b[0m\u001b[0;34m)\u001b[0m\u001b[0;34m\u001b[0m\u001b[0;34m\u001b[0m\u001b[0m\n\u001b[0;32m----> 7\u001b[0;31m \u001b[0mchoice\u001b[0m\u001b[0;34m(\u001b[0m\u001b[0mz\u001b[0m\u001b[0;34m)\u001b[0m\u001b[0;34m\u001b[0m\u001b[0;34m\u001b[0m\u001b[0m\n\u001b[0m",
      "\u001b[0;32m<ipython-input-8-83eb51515c87>\u001b[0m in \u001b[0;36mchoice\u001b[0;34m(z1)\u001b[0m\n\u001b[1;32m     12\u001b[0m   \u001b[0;32melse\u001b[0m\u001b[0;34m:\u001b[0m\u001b[0;34m\u001b[0m\u001b[0;34m\u001b[0m\u001b[0m\n\u001b[1;32m     13\u001b[0m     \u001b[0mprint\u001b[0m\u001b[0;34m(\u001b[0m\u001b[0;34m\"Wrong choice\"\u001b[0m\u001b[0;34m)\u001b[0m\u001b[0;34m\u001b[0m\u001b[0;34m\u001b[0m\u001b[0m\n\u001b[0;32m---> 14\u001b[0;31m   \u001b[0mus_er_choice\u001b[0m\u001b[0;34m(\u001b[0m\u001b[0;34m)\u001b[0m\u001b[0;34m\u001b[0m\u001b[0;34m\u001b[0m\u001b[0m\n\u001b[0m",
      "\u001b[0;31mNameError\u001b[0m: name 'us_er_choice' is not defined"
     ]
    }
   ],
   "source": [
    "## 3 // Write a program which will ask for two numbers from a user. Then offer an option menu to the user giving them a choice of mathsoperators. Once the user has selected which operator they wish to use, perform the calculation by using a procedure and passing parameters.\n",
    "\n",
    "x = int(input(\"Enter an integer value : \"))\n",
    "y = int(input(\"Enter another integer value : \"))\n",
    "print(\" 1--> Addition\\n 2--> Subtraction \\n 3--> Multiplication\\n 4--> Division\")\n",
    "z = int(input(\"Enter your choice of operation : \"))\n",
    "choice(z)\n"
   ]
  },
  {
   "cell_type": "code",
   "execution_count": null,
   "metadata": {},
   "outputs": [],
   "source": [
    "import math\n",
    "def choice(z1):\n",
    "  l1 = z1\n",
    "  if (l1 == 1):\n",
    "   print(\"Addition of \",x,\"and\",y,\"is\", x+y)\n",
    "  elif (l1 == 2):\n",
    "   print(\"Subration of \",x,\"and\",y,\"is\", x-y)\n",
    "  elif (l1 == 3):\n",
    "   print(\"Multiplication of \",x,\"and\",y,\"is\", x*y)\n",
    "  elif (l1 == 4):\n",
    "   print(\"Division of \",x,\"and\",y,\"is\", x/y)\n",
    "  else:\n",
    "    print(\"Wrong choice\")\n",
    "  us_er_choice()"
   ]
  },
  {
   "cell_type": "code",
   "execution_count": null,
   "metadata": {},
   "outputs": [],
   "source": [
    "def u_choice1():\n",
    " x1 = int(input(\"Enter an integer value : \"))\n",
    " y2 = int(input(\"Enter another integer value : \"))\n",
    " print(\" 1 --> Addition\\n 2--> Subtraction \\n 3--> Multiplication\\n 4--> Division\")\n",
    " z2 = int(input(\"Enter your choice of operation : \"))\n",
    " choice(z2)"
   ]
  },
  {
   "cell_type": "code",
   "execution_count": null,
   "metadata": {},
   "outputs": [],
   "source": []
  }
 ]
}