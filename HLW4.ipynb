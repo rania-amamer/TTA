{
 "metadata": {
  "language_info": {
   "codemirror_mode": {
    "name": "ipython",
    "version": 3
   },
   "file_extension": ".py",
   "mimetype": "text/x-python",
   "name": "python",
   "nbconvert_exporter": "python",
   "pygments_lexer": "ipython3",
   "version": "3.8.5"
  },
  "orig_nbformat": 2,
  "kernelspec": {
   "name": "python385jvsc74a57bd0dca0ade3e726a953b501b15e8e990130d2b7799f14cfd9f4271676035ebe5511",
   "display_name": "Python 3.8.5 64-bit ('base': conda)"
  }
 },
 "nbformat": 4,
 "nbformat_minor": 2,
 "cells": [
  {
   "cell_type": "code",
   "execution_count": 2,
   "metadata": {},
   "outputs": [],
   "source": [
    "import pandas as pd"
   ]
  },
  {
   "cell_type": "code",
   "execution_count": 3,
   "metadata": {},
   "outputs": [
    {
     "output_type": "execute_result",
     "data": {
      "text/plain": [
       "(15, 8)"
      ]
     },
     "metadata": {},
     "execution_count": 3
    }
   ],
   "source": [
    "hd= pd.read_csv(r\"/Users/rania/Downloads/Holiday dest.csv\")\n",
    "## how many rows and columns in the file\n",
    "hd.shape"
   ]
  },
  {
   "cell_type": "code",
   "execution_count": 4,
   "metadata": {},
   "outputs": [
    {
     "output_type": "stream",
     "name": "stdout",
     "text": [
      "Destination              Thailand\nmost visited city            Bali\nfeedback score                8.9\nall-inclusive hotels           35\nHotel star rating               4\nCost pp                  £250.00 \nNumber of days                  7\nUnnamed: 7                    NaN\nName: 9, dtype: object\n"
     ]
    }
   ],
   "source": [
    "## print row 3-8\n",
    "print(hd.iloc[2-8])"
   ]
  },
  {
   "cell_type": "code",
   "execution_count": 5,
   "metadata": {},
   "outputs": [
    {
     "output_type": "execute_result",
     "data": {
      "text/plain": [
       "12.8"
      ]
     },
     "metadata": {},
     "execution_count": 5
    }
   ],
   "source": [
    "## Find the mean number of all-inclusive hotels across all destinations\n",
    "\n",
    "hd[\"all-inclusive hotels\"].mean()\n"
   ]
  },
  {
   "cell_type": "code",
   "execution_count": 30,
   "metadata": {},
   "outputs": [
    {
     "output_type": "stream",
     "name": "stdout",
     "text": [
      "   Destination most visited city  scoring  all_inclusive  Hotel star rating  \\\n0        Spain            Madrid      8.9             10                  4   \n1       France             paris      8.9             20                  4   \n2      England            london      7.9             21                  3   \n3      Morroco          marakech      9.5             14                  4   \n4       Turkey          Istanbul      9.5             15                  4   \n5     Emirates             Dubai      8.9             17                  4   \n6       Egypte             Cairo      8.5             18                  3   \n7          USA             Miami      9.5             13                  3   \n8       Mexico            Mexico      9.4             12                  3   \n9     Thailand              Bali      8.9             35                  4   \n10   Caribbean       The Bahamas      8.5              2                  3   \n11  Costa Rica          San Jose      7.9              3                  3   \n12     Tunisia             Tunis      8.1              6                  4   \n13    Maldives          Maldives      9.8              2                  4   \n14      Greece         Santorini      8.6              4                  3   \n\n      Cost pp  Number of days  Unnamed: 7  \n0    £309.00                4         NaN  \n1    £579.00                7         NaN  \n2    £539.00                7         NaN  \n3    £279.00                7         NaN  \n4    £489.00                7         NaN  \n5    £499.00                7         NaN  \n6    £590.00                7         NaN  \n7    £490.00                5         NaN  \n8    £590.00                6         NaN  \n9    £250.00                7         NaN  \n10   £260.00                8         NaN  \n11   £570.00                9         NaN  \n12   £400.00                5         NaN  \n13   £755.00                6         NaN  \n14   £788.00                7         NaN  \n"
     ]
    }
   ],
   "source": [
    "hd.rename(columns={\"feedback score\": \"scoring\"}, inplace=True)\n",
    "print(hd)\n",
    "#### the space in the name was giving me an error, had to rename it"
   ]
  },
  {
   "cell_type": "code",
   "execution_count": 10,
   "metadata": {},
   "outputs": [
    {
     "output_type": "stream",
     "name": "stdout",
     "text": [
      "   Destination most visited city  scoring  all_inclusive  Hotel star rating  \\\n13    Maldives          Maldives      9.8              2                  4   \n\n      Cost pp  Number of days  Unnamed: 7  \n13   £755.00                6         NaN  \n"
     ]
    }
   ],
   "source": [
    "##Find the highest scoring destination.\n",
    "print(hd[hd.scoring==hd.scoring.max()])"
   ]
  },
  {
   "cell_type": "code",
   "execution_count": 11,
   "metadata": {},
   "outputs": [
    {
     "output_type": "stream",
     "name": "stdout",
     "text": [
      "   Destination most visited city  scoring  all_inclusive  Hotel star rating  \\\n2      England            london      7.9             21                  3   \n11  Costa Rica          San Jose      7.9              3                  3   \n\n      Cost pp  Number of days  Unnamed: 7  \n2    £539.00                7         NaN  \n11   £570.00                9         NaN  \n"
     ]
    }
   ],
   "source": [
    "##Find the lowest scoring destination\n",
    "print(hd[hd.scoring==hd.scoring.min()])"
   ]
  },
  {
   "cell_type": "code",
   "execution_count": 8,
   "metadata": {},
   "outputs": [
    {
     "output_type": "stream",
     "name": "stdout",
     "text": [
      "   Destination most visited city  feedback score  all_inclusive  \\\n0        Spain            Madrid             8.9             10   \n1       France             paris             8.9             20   \n2      England            london             7.9             21   \n3      Morroco          marakech             9.5             14   \n4       Turkey          Istanbul             9.5             15   \n5     Emirates             Dubai             8.9             17   \n6       Egypte             Cairo             8.5             18   \n7          USA             Miami             9.5             13   \n8       Mexico            Mexico             9.4             12   \n9     Thailand              Bali             8.9             35   \n10   Caribbean       The Bahamas             8.5              2   \n11  Costa Rica          San Jose             7.9              3   \n12     Tunisia             Tunis             8.1              6   \n13    Maldives          Maldives             9.8              2   \n14      Greece         Santorini             8.6              4   \n\n    Hotel star rating    Cost pp  Number of days  Unnamed: 7  \n0                   4   £309.00                4         NaN  \n1                   4   £579.00                7         NaN  \n2                   3   £539.00                7         NaN  \n3                   4   £279.00                7         NaN  \n4                   4   £489.00                7         NaN  \n5                   4   £499.00                7         NaN  \n6                   3   £590.00                7         NaN  \n7                   3   £490.00                5         NaN  \n8                   3   £590.00                6         NaN  \n9                   4   £250.00                7         NaN  \n10                  3   £260.00                8         NaN  \n11                  3   £570.00                9         NaN  \n12                  4   £400.00                5         NaN  \n13                  4   £755.00                6         NaN  \n14                  3   £788.00                7         NaN  \n"
     ]
    }
   ],
   "source": [
    "hd.rename(columns={\"all-inclusive hotels\": \"all_inclusive\"}, inplace=True)\n",
    "print(hd)\n",
    "## the space in the name was giving me an error, had to rename it"
   ]
  },
  {
   "cell_type": "code",
   "execution_count": 12,
   "metadata": {},
   "outputs": [
    {
     "output_type": "stream",
     "name": "stdout",
     "text": [
      "  Destination most visited city  scoring  all_inclusive  Hotel star rating  \\\n0       Spain            Madrid      8.9             10                  4   \n1      France             paris      8.9             20                  4   \n2     England            london      7.9             21                  3   \n3     Morroco          marakech      9.5             14                  4   \n4      Turkey          Istanbul      9.5             15                  4   \n5    Emirates             Dubai      8.9             17                  4   \n6      Egypte             Cairo      8.5             18                  3   \n7         USA             Miami      9.5             13                  3   \n8      Mexico            Mexico      9.4             12                  3   \n9    Thailand              Bali      8.9             35                  4   \n\n     Cost pp  Number of days  Unnamed: 7  \n0   £309.00                4         NaN  \n1   £579.00                7         NaN  \n2   £539.00                7         NaN  \n3   £279.00                7         NaN  \n4   £489.00                7         NaN  \n5   £499.00                7         NaN  \n6   £590.00                7         NaN  \n7   £490.00                5         NaN  \n8   £590.00                6         NaN  \n9   £250.00                7         NaN  \n"
     ]
    }
   ],
   "source": [
    "##Find all the destinations where there are more than 9 all-inclusive hotels.\n",
    "print(hd[hd.all_inclusive>=9])"
   ]
  },
  {
   "cell_type": "code",
   "execution_count": 21,
   "metadata": {},
   "outputs": [
    {
     "output_type": "stream",
     "name": "stdout",
     "text": [
      "   Destination most visited city  scoring  all_inclusive  Hotel star rating  \\\n0        Spain            Madrid      8.9             10                  4   \n1       France             paris      8.9             20                  4   \n3      Morroco          marakech      9.5             14                  4   \n4       Turkey          Istanbul      9.5             15                  4   \n5     Emirates             Dubai      8.9             17                  4   \n6       Egypte             Cairo      8.5             18                  3   \n7          USA             Miami      9.5             13                  3   \n8       Mexico            Mexico      9.4             12                  3   \n9     Thailand              Bali      8.9             35                  4   \n10   Caribbean       The Bahamas      8.5              2                  3   \n12     Tunisia             Tunis      8.1              6                  4   \n13    Maldives          Maldives      9.8              2                  4   \n14      Greece         Santorini      8.6              4                  3   \n\n      Cost pp  Number of days  Unnamed: 7  \n0    £309.00                4         NaN  \n1    £579.00                7         NaN  \n3    £279.00                7         NaN  \n4    £489.00                7         NaN  \n5    £499.00                7         NaN  \n6    £590.00                7         NaN  \n7    £490.00                5         NaN  \n8    £590.00                6         NaN  \n9    £250.00                7         NaN  \n10   £260.00                8         NaN  \n12   £400.00                5         NaN  \n13   £755.00                6         NaN  \n14   £788.00                7         NaN  \n"
     ]
    }
   ],
   "source": [
    "##Filter the data by score above 8. \n",
    "print(hd[hd.scoring>=8])"
   ]
  },
  {
   "cell_type": "code",
   "execution_count": 58,
   "metadata": {},
   "outputs": [
    {
     "output_type": "stream",
     "name": "stdout",
     "text": [
      "Empty DataFrame\nColumns: [Destination, most visited city, scoring, all_inclusive, Hotel star rating, Cost pp, Number of days, Unnamed: 7]\nIndex: []\n"
     ]
    }
   ],
   "source": [
    "##Filter the data score below 2 ( I need to know if these destinations should be removed or there is a problem)\n",
    "\n",
    "print(hd[hd.scoring<=2])"
   ]
  },
  {
   "cell_type": "code",
   "execution_count": 24,
   "metadata": {},
   "outputs": [],
   "source": [
    "import numpy as np\n",
    "import matplotlib.pyplot as plt"
   ]
  },
  {
   "cell_type": "code",
   "execution_count": 29,
   "metadata": {},
   "outputs": [
    {
     "output_type": "error",
     "ename": "NameError",
     "evalue": "name 'all_inclusive' is not defined",
     "traceback": [
      "\u001b[0;31m---------------------------------------------------------------------------\u001b[0m",
      "\u001b[0;31mNameError\u001b[0m                                 Traceback (most recent call last)",
      "\u001b[0;32m<ipython-input-29-bbc9428c798b>\u001b[0m in \u001b[0;36m<module>\u001b[0;34m\u001b[0m\n\u001b[0;32m----> 1\u001b[0;31m \u001b[0mmy_corr\u001b[0m\u001b[0;34m=\u001b[0m \u001b[0mnp\u001b[0m\u001b[0;34m.\u001b[0m\u001b[0mcorrcoef\u001b[0m\u001b[0;34m(\u001b[0m\u001b[0mall_inclusive\u001b[0m\u001b[0;34m,\u001b[0m \u001b[0mscoring\u001b[0m\u001b[0;34m)\u001b[0m\u001b[0;34m\u001b[0m\u001b[0;34m\u001b[0m\u001b[0m\n\u001b[0m\u001b[1;32m      2\u001b[0m \u001b[0mprint\u001b[0m\u001b[0;34m(\u001b[0m\u001b[0mmy_corr\u001b[0m\u001b[0;34m)\u001b[0m\u001b[0;34m\u001b[0m\u001b[0;34m\u001b[0m\u001b[0m\n",
      "\u001b[0;31mNameError\u001b[0m: name 'all_inclusive' is not defined"
     ]
    }
   ],
   "source": [
    "my_corr= np.corrcoef(all_inclusive, scoring)\n",
    "print(my_corr)"
   ]
  },
  {
   "cell_type": "code",
   "execution_count": null,
   "metadata": {},
   "outputs": [],
   "source": []
  }
 ]
}