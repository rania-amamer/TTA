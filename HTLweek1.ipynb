{
 "metadata": {
  "language_info": {
   "codemirror_mode": {
    "name": "ipython",
    "version": 3
   },
   "file_extension": ".py",
   "mimetype": "text/x-python",
   "name": "python",
   "nbconvert_exporter": "python",
   "pygments_lexer": "ipython3",
   "version": "3.8.5"
  },
  "orig_nbformat": 2,
  "kernelspec": {
   "name": "python385jvsc74a57bd0dca0ade3e726a953b501b15e8e990130d2b7799f14cfd9f4271676035ebe5511",
   "display_name": "Python 3.8.5 64-bit ('base': conda)"
  }
 },
 "nbformat": 4,
 "nbformat_minor": 2,
 "cells": [
  {
   "cell_type": "code",
   "execution_count": 48,
   "metadata": {},
   "outputs": [
    {
     "output_type": "stream",
     "name": "stdout",
     "text": [
      "hello!What is your name?\n",
      "Well,rania,i am thinking of a number between 1 and 10\n",
      "guess a number\n",
      "Not correct\n"
     ]
    }
   ],
   "source": [
    "#TASK1\n",
    "import random\n",
    "guessesTaken=2\n",
    "print(\"hello!What is your name?\")\n",
    "myname=input()\n",
    "\n",
    "number=random.randint(1,10)\n",
    "print(\"Well,\"+myname+\",i am thinking of a number between 1 and 10\")\n",
    "print(\"guess a number\")\n",
    "guess=int(input())\n",
    "\n",
    "if guessesTaken == number:\n",
    "    print(\"good job\")\n",
    "else:\n",
    "    print(\"Not correct\")"
   ]
  },
  {
   "cell_type": "code",
   "execution_count": 20,
   "metadata": {},
   "outputs": [
    {
     "output_type": "stream",
     "name": "stdout",
     "text": [
      "hello!What is your name?\n",
      "well,raniaguess a number between 1 and 100\n",
      "A good programmer is someone who always looks both ways before crossing a one-way stree\n"
     ]
    }
   ],
   "source": [
    "#TASK2\n",
    "import random\n",
    "guessNumber=1,2,10\n",
    "print(\"hello!What is your name?\")\n",
    "mynameis= input()\n",
    "\n",
    "number1=random.randint(1,100)\n",
    "print(\"well, \"+mynameis+\"guess a number between 1 and 100\")\n",
    "guessNumber=int(input())\n",
    "\n",
    "if guessNumber == number1:\n",
    "    print(\"Why do programmers always mix up Halloween and Christmas? Because Oct 31 = Dec 25\")\n",
    "elif guessNumber == 2:\n",
    "    print(\"A good programmer is someone who always looks both ways before crossing a one-way stree\")\n",
    "elif guessNumber== 10:\n",
    "    print(\"There are 10 types of people in this world. Those who understand binary and those who don’t\")\n",
    "else:\n",
    "    print(\"try again!\")"
   ]
  },
  {
   "cell_type": "code",
   "execution_count": 46,
   "metadata": {},
   "outputs": [
    {
     "output_type": "stream",
     "name": "stdout",
     "text": [
      "hello!,What is your name?\n",
      "hi ,rania please,tell us about your favourite starter, main course, dessert and drink\n",
      "your favourite meal is ,1234\n"
     ]
    }
   ],
   "source": [
    "# TASK3\n",
    "print(\"hello!,What is your name?\")\n",
    "name=input()\n",
    "\n",
    "\n",
    "print(\"hi ,\" +name+ \" please,tell us about your favourite starter, main course, dessert and drink\")\n",
    "starter=input()\n",
    "maincourse=input()\n",
    "dessert=input()\n",
    "drink=input()\n",
    "print(\"your favourite meal is ,\" +starter+maincourse+dessert+drink)\n",
    "\n",
    "\n"
   ]
  },
  {
   "cell_type": "code",
   "execution_count": 56,
   "metadata": {},
   "outputs": [
    {
     "output_type": "stream",
     "name": "stdout",
     "text": [
      "2000\n1800.0\n1620.0\n1458.0\n1312.2\n1180.98\n1062.882\nThe bike value gone down\n"
     ]
    }
   ],
   "source": [
    "#TASK4\n",
    "bikevalue= 2000\n",
    "\n",
    "while bikevalue > 1000:\n",
    "      print(bikevalue)\n",
    "      bikevalue=bikevalue*0.9\n",
    "print(\"The bike value gone down\")\n",
    "\n"
   ]
  },
  {
   "cell_type": "code",
   "execution_count": 58,
   "metadata": {},
   "outputs": [
    {
     "output_type": "stream",
     "name": "stdout",
     "text": [
      "Enter which operation would you like to perform?\n",
      "2 - 2 : 0\n"
     ]
    }
   ],
   "source": [
    "#TASK 5\n",
    "num1 = int(input(\"Enter First Number: \"))\n",
    "num2 = int(input(\"Enter Second Number: \"))\n",
    "\n",
    "print(\"Enter which operation would you like to perform?\")\n",
    "ch = input(\"Enter any of these char for specific operation +,-,*,/: \")\n",
    "\n",
    "result = 0\n",
    "if ch == '+':\n",
    "    result = num1 + num2\n",
    "elif ch == '-':\n",
    "    result = num1 - num2\n",
    "elif ch == '*':\n",
    "    result = num1 * num2\n",
    "elif ch == '/':\n",
    "    result = num1 / num2\n",
    "else:\n",
    "    print(\"Input character is not recognised!\")\n",
    "\n",
    "print(num1, ch , num2, \":\", result)"
   ]
  },
  {
   "cell_type": "code",
   "execution_count": null,
   "metadata": {},
   "outputs": [],
   "source": []
  }
 ]
}